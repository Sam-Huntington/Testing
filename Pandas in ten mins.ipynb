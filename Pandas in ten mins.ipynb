{
 "cells": [
  {
   "cell_type": "markdown",
   "metadata": {},
   "source": [
    "###Modules and git scripts"
   ]
  },
  {
   "cell_type": "code",
   "execution_count": 102,
   "metadata": {
    "collapsed": true
   },
   "outputs": [],
   "source": [
    "import pandas as pd\n",
    "import numpy as np\n",
    "import matplotlib.pyplot as plt\n",
    "import math as math"
   ]
  },
  {
   "cell_type": "code",
   "execution_count": 40,
   "metadata": {
    "collapsed": true
   },
   "outputs": [
    {
     "name": "stdout",
     "output_type": "stream",
     "text": [
      "[master 47939f4] practicing python and git commits\n",
      " 2 files changed, 261 insertions(+)\n",
      " create mode 100644 .ipynb_checkpoints/Pandas in ten mins-checkpoint.ipynb\n",
      " create mode 100644 Pandas in ten mins.ipynb\n",
      "On branch master\n",
      "Your branch is ahead of 'origin/master' by 1 commit.\n",
      "  (use \"git push\" to publish your local commits)\n",
      "nothing to commit, working directory clean\n"
     ]
    }
   ],
   "source": [
    "%%bash\n",
    "git add .\n",
    "git commit -m \"practicing python and git commits\"\n",
    "git status"
   ]
  },
  {
   "cell_type": "code",
   "execution_count": 42,
   "metadata": {
    "collapsed": true
   },
   "outputs": [
    {
     "name": "stderr",
     "output_type": "stream",
     "text": [
      "Everything up-to-date\n"
     ]
    }
   ],
   "source": [
    "%%bash\n",
    "git push"
   ]
  },
  {
   "cell_type": "code",
   "execution_count": 44,
   "metadata": {
    "collapsed": false
   },
   "outputs": [],
   "source": [
    "%%bash\n",
    "git branch PandaPractice\n",
    "git checkout PandaPractice\n",
    "git branch"
   ]
  },
  {
   "cell_type": "code",
   "execution_count": 51,
   "metadata": {
    "collapsed": false
   },
   "outputs": [
    {
     "name": "stdout",
     "output_type": "stream",
     "text": [
      "On branch PandaPractice\n",
      "Changes to be committed:\n",
      "  (use \"git reset HEAD <file>...\" to unstage)\n",
      "\n",
      "\tmodified:   Pandas in ten mins.ipynb\n",
      "\n",
      "Changes not staged for commit:\n",
      "  (use \"git add <file>...\" to update what will be committed)\n",
      "  (use \"git checkout -- <file>...\" to discard changes in working directory)\n",
      "\n",
      "\tmodified:   .ipynb_checkpoints/Pandas in ten mins-checkpoint.ipynb\n",
      "\n"
     ]
    }
   ],
   "source": [
    "%%bash\n",
    "git add \"Pandas in ten mins.ipynb\"\n",
    "git status"
   ]
  },
  {
   "cell_type": "code",
   "execution_count": 52,
   "metadata": {
    "collapsed": false
   },
   "outputs": [
    {
     "name": "stdout",
     "output_type": "stream",
     "text": [
      "[PandaPractice ed5ee78] pushing to new branch\n",
      " 1 file changed, 92 insertions(+), 2 deletions(-)\n",
      "On branch PandaPractice\n",
      "Changes not staged for commit:\n",
      "  (use \"git add <file>...\" to update what will be committed)\n",
      "  (use \"git checkout -- <file>...\" to discard changes in working directory)\n",
      "\n",
      "\tmodified:   .ipynb_checkpoints/Pandas in ten mins-checkpoint.ipynb\n",
      "\tmodified:   Pandas in ten mins.ipynb\n",
      "\n",
      "no changes added to commit (use \"git add\" and/or \"git commit -a\")\n"
     ]
    }
   ],
   "source": [
    "%%bash\n",
    "git commit -m \"pushing to new branch\"\n",
    "git status"
   ]
  },
  {
   "cell_type": "code",
   "execution_count": 54,
   "metadata": {
    "collapsed": false
   },
   "outputs": [
    {
     "name": "stdout",
     "output_type": "stream",
     "text": [
      "Branch PandaPractice set up to track remote branch PandaPractice from origin.\n"
     ]
    },
    {
     "name": "stderr",
     "output_type": "stream",
     "text": [
      "To git@github.com:Sam-Huntington/Testing.git\n",
      " * [new branch]      PandaPractice -> PandaPractice\n"
     ]
    }
   ],
   "source": [
    "%%bash\n",
    "git push --set-upstream origin PandaPractice"
   ]
  },
  {
   "cell_type": "markdown",
   "metadata": {},
   "source": [
    "###Code Practice"
   ]
  },
  {
   "cell_type": "code",
   "execution_count": 75,
   "metadata": {
    "collapsed": false
   },
   "outputs": [
    {
     "data": {
      "text/html": [
       "<div>\n",
       "<table border=\"1\" class=\"dataframe\">\n",
       "  <thead>\n",
       "    <tr style=\"text-align: right;\">\n",
       "      <th></th>\n",
       "      <th>A</th>\n",
       "      <th>B</th>\n",
       "      <th>C</th>\n",
       "      <th>D</th>\n",
       "      <th>E</th>\n",
       "    </tr>\n",
       "  </thead>\n",
       "  <tbody>\n",
       "    <tr>\n",
       "      <th>0</th>\n",
       "      <td>-1.814813</td>\n",
       "      <td>1.558398</td>\n",
       "      <td>-0.073125</td>\n",
       "      <td>0.566113</td>\n",
       "      <td>-0.520068</td>\n",
       "    </tr>\n",
       "    <tr>\n",
       "      <th>1</th>\n",
       "      <td>-1.170148</td>\n",
       "      <td>-1.259288</td>\n",
       "      <td>-0.841503</td>\n",
       "      <td>-1.090455</td>\n",
       "      <td>-1.208187</td>\n",
       "    </tr>\n",
       "    <tr>\n",
       "      <th>2</th>\n",
       "      <td>-0.415668</td>\n",
       "      <td>-0.495648</td>\n",
       "      <td>-1.327516</td>\n",
       "      <td>0.458929</td>\n",
       "      <td>-0.798690</td>\n",
       "    </tr>\n",
       "    <tr>\n",
       "      <th>3</th>\n",
       "      <td>-0.801163</td>\n",
       "      <td>1.292139</td>\n",
       "      <td>-0.055849</td>\n",
       "      <td>-0.377593</td>\n",
       "      <td>0.179477</td>\n",
       "    </tr>\n",
       "    <tr>\n",
       "      <th>4</th>\n",
       "      <td>-2.135014</td>\n",
       "      <td>0.417045</td>\n",
       "      <td>1.583917</td>\n",
       "      <td>-0.935545</td>\n",
       "      <td>0.617012</td>\n",
       "    </tr>\n",
       "    <tr>\n",
       "      <th>5</th>\n",
       "      <td>-0.077222</td>\n",
       "      <td>0.283425</td>\n",
       "      <td>0.116891</td>\n",
       "      <td>-1.414985</td>\n",
       "      <td>0.044394</td>\n",
       "    </tr>\n",
       "    <tr>\n",
       "      <th>6</th>\n",
       "      <td>0.947924</td>\n",
       "      <td>0.408112</td>\n",
       "      <td>0.657907</td>\n",
       "      <td>0.662357</td>\n",
       "      <td>-0.493066</td>\n",
       "    </tr>\n",
       "    <tr>\n",
       "      <th>7</th>\n",
       "      <td>-0.448075</td>\n",
       "      <td>-1.009685</td>\n",
       "      <td>0.139149</td>\n",
       "      <td>0.325681</td>\n",
       "      <td>0.906869</td>\n",
       "    </tr>\n",
       "    <tr>\n",
       "      <th>8</th>\n",
       "      <td>-0.369467</td>\n",
       "      <td>1.747157</td>\n",
       "      <td>0.342959</td>\n",
       "      <td>0.671405</td>\n",
       "      <td>-0.285360</td>\n",
       "    </tr>\n",
       "    <tr>\n",
       "      <th>9</th>\n",
       "      <td>-0.508568</td>\n",
       "      <td>1.870478</td>\n",
       "      <td>0.237462</td>\n",
       "      <td>-1.494234</td>\n",
       "      <td>-1.364599</td>\n",
       "    </tr>\n",
       "  </tbody>\n",
       "</table>\n",
       "</div>"
      ],
      "text/plain": [
       "          A         B         C         D         E\n",
       "0 -1.814813  1.558398 -0.073125  0.566113 -0.520068\n",
       "1 -1.170148 -1.259288 -0.841503 -1.090455 -1.208187\n",
       "2 -0.415668 -0.495648 -1.327516  0.458929 -0.798690\n",
       "3 -0.801163  1.292139 -0.055849 -0.377593  0.179477\n",
       "4 -2.135014  0.417045  1.583917 -0.935545  0.617012\n",
       "5 -0.077222  0.283425  0.116891 -1.414985  0.044394\n",
       "6  0.947924  0.408112  0.657907  0.662357 -0.493066\n",
       "7 -0.448075 -1.009685  0.139149  0.325681  0.906869\n",
       "8 -0.369467  1.747157  0.342959  0.671405 -0.285360\n",
       "9 -0.508568  1.870478  0.237462 -1.494234 -1.364599"
      ]
     },
     "execution_count": 75,
     "metadata": {},
     "output_type": "execute_result"
    }
   ],
   "source": [
    "df = pd.DataFrame(np.random.randn(10,5), index=list(range(10)), columns = list(\"ABCDE\"))\n",
    "df"
   ]
  },
  {
   "cell_type": "code",
   "execution_count": 115,
   "metadata": {
    "collapsed": false
   },
   "outputs": [
    {
     "data": {
      "text/plain": [
       "-1.2592881769080537"
      ]
     },
     "execution_count": 115,
     "metadata": {},
     "output_type": "execute_result"
    }
   ],
   "source": [
    "df[:3]\n",
    "df[\"A\"]\n",
    "df[2:3]\n",
    "df.iloc[1,1]"
   ]
  },
  {
   "cell_type": "code",
   "execution_count": 58,
   "metadata": {
    "collapsed": false
   },
   "outputs": [
    {
     "data": {
      "text/plain": [
       "1.4653812840251219"
      ]
     },
     "execution_count": 58,
     "metadata": {},
     "output_type": "execute_result"
    }
   ],
   "source": [
    "df.loc[3, 'A']"
   ]
  },
  {
   "cell_type": "code",
   "execution_count": 70,
   "metadata": {
    "collapsed": false
   },
   "outputs": [
    {
     "data": {
      "text/html": [
       "<div>\n",
       "<table border=\"1\" class=\"dataframe\">\n",
       "  <thead>\n",
       "    <tr style=\"text-align: right;\">\n",
       "      <th></th>\n",
       "      <th>A</th>\n",
       "      <th>B</th>\n",
       "      <th>C</th>\n",
       "      <th>D</th>\n",
       "      <th>E</th>\n",
       "    </tr>\n",
       "  </thead>\n",
       "  <tbody>\n",
       "    <tr>\n",
       "      <th>2</th>\n",
       "      <td>0.572256</td>\n",
       "      <td>-0.169098</td>\n",
       "      <td>1.397204</td>\n",
       "      <td>1.249620</td>\n",
       "      <td>-1.191226</td>\n",
       "    </tr>\n",
       "    <tr>\n",
       "      <th>3</th>\n",
       "      <td>1.465381</td>\n",
       "      <td>0.433794</td>\n",
       "      <td>1.531289</td>\n",
       "      <td>-2.227304</td>\n",
       "      <td>0.254160</td>\n",
       "    </tr>\n",
       "    <tr>\n",
       "      <th>4</th>\n",
       "      <td>1.087839</td>\n",
       "      <td>-0.222498</td>\n",
       "      <td>0.063400</td>\n",
       "      <td>1.210815</td>\n",
       "      <td>-1.343562</td>\n",
       "    </tr>\n",
       "  </tbody>\n",
       "</table>\n",
       "</div>"
      ],
      "text/plain": [
       "          A         B         C         D         E\n",
       "2  0.572256 -0.169098  1.397204  1.249620 -1.191226\n",
       "3  1.465381  0.433794  1.531289 -2.227304  0.254160\n",
       "4  1.087839 -0.222498  0.063400  1.210815 -1.343562"
      ]
     },
     "execution_count": 70,
     "metadata": {},
     "output_type": "execute_result"
    }
   ],
   "source": [
    "#rows\n",
    "df.iloc[2]; df.iloc[2:5]"
   ]
  },
  {
   "cell_type": "code",
   "execution_count": 77,
   "metadata": {
    "collapsed": false
   },
   "outputs": [
    {
     "data": {
      "text/plain": [
       "1   -0.841503\n",
       "3   -0.055849\n",
       "4    1.583917\n",
       "Name: C, dtype: float64"
      ]
     },
     "execution_count": 77,
     "metadata": {},
     "output_type": "execute_result"
    }
   ],
   "source": [
    "df.iloc[[1,3,4],2]"
   ]
  },
  {
   "cell_type": "code",
   "execution_count": 87,
   "metadata": {
    "collapsed": false
   },
   "outputs": [
    {
     "data": {
      "text/html": [
       "<div>\n",
       "<table border=\"1\" class=\"dataframe\">\n",
       "  <thead>\n",
       "    <tr style=\"text-align: right;\">\n",
       "      <th></th>\n",
       "      <th>A</th>\n",
       "      <th>B</th>\n",
       "      <th>C</th>\n",
       "      <th>D</th>\n",
       "      <th>E</th>\n",
       "    </tr>\n",
       "  </thead>\n",
       "  <tbody>\n",
       "    <tr>\n",
       "      <th>0</th>\n",
       "      <td>-1.814813</td>\n",
       "      <td>1.558398</td>\n",
       "      <td>-0.073125</td>\n",
       "      <td>0.566113</td>\n",
       "      <td>-0.520068</td>\n",
       "    </tr>\n",
       "    <tr>\n",
       "      <th>3</th>\n",
       "      <td>-0.801163</td>\n",
       "      <td>1.292139</td>\n",
       "      <td>-0.055849</td>\n",
       "      <td>-0.377593</td>\n",
       "      <td>0.179477</td>\n",
       "    </tr>\n",
       "    <tr>\n",
       "      <th>8</th>\n",
       "      <td>-0.369467</td>\n",
       "      <td>1.747157</td>\n",
       "      <td>0.342959</td>\n",
       "      <td>0.671405</td>\n",
       "      <td>-0.285360</td>\n",
       "    </tr>\n",
       "    <tr>\n",
       "      <th>9</th>\n",
       "      <td>-0.508568</td>\n",
       "      <td>1.870478</td>\n",
       "      <td>0.237462</td>\n",
       "      <td>-1.494234</td>\n",
       "      <td>-1.364599</td>\n",
       "    </tr>\n",
       "  </tbody>\n",
       "</table>\n",
       "</div>"
      ],
      "text/plain": [
       "          A         B         C         D         E\n",
       "0 -1.814813  1.558398 -0.073125  0.566113 -0.520068\n",
       "3 -0.801163  1.292139 -0.055849 -0.377593  0.179477\n",
       "8 -0.369467  1.747157  0.342959  0.671405 -0.285360\n",
       "9 -0.508568  1.870478  0.237462 -1.494234 -1.364599"
      ]
     },
     "execution_count": 87,
     "metadata": {},
     "output_type": "execute_result"
    }
   ],
   "source": [
    "df[df.B>1]"
   ]
  },
  {
   "cell_type": "code",
   "execution_count": 123,
   "metadata": {
    "collapsed": false
   },
   "outputs": [
    {
     "data": {
      "text/html": [
       "<div>\n",
       "<table border=\"1\" class=\"dataframe\">\n",
       "  <thead>\n",
       "    <tr style=\"text-align: right;\">\n",
       "      <th></th>\n",
       "      <th>A</th>\n",
       "      <th>B</th>\n",
       "      <th>C</th>\n",
       "      <th>D</th>\n",
       "      <th>E</th>\n",
       "    </tr>\n",
       "  </thead>\n",
       "  <tbody>\n",
       "    <tr>\n",
       "      <th>0</th>\n",
       "      <td>NaN</td>\n",
       "      <td>1.558398</td>\n",
       "      <td>NaN</td>\n",
       "      <td>0.566113</td>\n",
       "      <td>NaN</td>\n",
       "    </tr>\n",
       "    <tr>\n",
       "      <th>1</th>\n",
       "      <td>NaN</td>\n",
       "      <td>NaN</td>\n",
       "      <td>NaN</td>\n",
       "      <td>NaN</td>\n",
       "      <td>NaN</td>\n",
       "    </tr>\n",
       "    <tr>\n",
       "      <th>2</th>\n",
       "      <td>NaN</td>\n",
       "      <td>NaN</td>\n",
       "      <td>NaN</td>\n",
       "      <td>0.458929</td>\n",
       "      <td>NaN</td>\n",
       "    </tr>\n",
       "    <tr>\n",
       "      <th>3</th>\n",
       "      <td>NaN</td>\n",
       "      <td>1.292139</td>\n",
       "      <td>NaN</td>\n",
       "      <td>NaN</td>\n",
       "      <td>0.179477</td>\n",
       "    </tr>\n",
       "    <tr>\n",
       "      <th>4</th>\n",
       "      <td>NaN</td>\n",
       "      <td>0.417045</td>\n",
       "      <td>1.583917</td>\n",
       "      <td>NaN</td>\n",
       "      <td>0.617012</td>\n",
       "    </tr>\n",
       "    <tr>\n",
       "      <th>5</th>\n",
       "      <td>NaN</td>\n",
       "      <td>0.283425</td>\n",
       "      <td>0.116891</td>\n",
       "      <td>NaN</td>\n",
       "      <td>0.044394</td>\n",
       "    </tr>\n",
       "    <tr>\n",
       "      <th>6</th>\n",
       "      <td>0.947924</td>\n",
       "      <td>0.408112</td>\n",
       "      <td>0.657907</td>\n",
       "      <td>0.662357</td>\n",
       "      <td>NaN</td>\n",
       "    </tr>\n",
       "    <tr>\n",
       "      <th>7</th>\n",
       "      <td>NaN</td>\n",
       "      <td>NaN</td>\n",
       "      <td>0.139149</td>\n",
       "      <td>0.325681</td>\n",
       "      <td>0.906869</td>\n",
       "    </tr>\n",
       "    <tr>\n",
       "      <th>8</th>\n",
       "      <td>NaN</td>\n",
       "      <td>1.747157</td>\n",
       "      <td>0.342959</td>\n",
       "      <td>0.671405</td>\n",
       "      <td>NaN</td>\n",
       "    </tr>\n",
       "    <tr>\n",
       "      <th>9</th>\n",
       "      <td>NaN</td>\n",
       "      <td>1.870478</td>\n",
       "      <td>0.237462</td>\n",
       "      <td>NaN</td>\n",
       "      <td>NaN</td>\n",
       "    </tr>\n",
       "  </tbody>\n",
       "</table>\n",
       "</div>"
      ],
      "text/plain": [
       "          A         B         C         D         E\n",
       "0       NaN  1.558398       NaN  0.566113       NaN\n",
       "1       NaN       NaN       NaN       NaN       NaN\n",
       "2       NaN       NaN       NaN  0.458929       NaN\n",
       "3       NaN  1.292139       NaN       NaN  0.179477\n",
       "4       NaN  0.417045  1.583917       NaN  0.617012\n",
       "5       NaN  0.283425  0.116891       NaN  0.044394\n",
       "6  0.947924  0.408112  0.657907  0.662357       NaN\n",
       "7       NaN       NaN  0.139149  0.325681  0.906869\n",
       "8       NaN  1.747157  0.342959  0.671405       NaN\n",
       "9       NaN  1.870478  0.237462       NaN       NaN"
      ]
     },
     "execution_count": 123,
     "metadata": {},
     "output_type": "execute_result"
    }
   ],
   "source": [
    "k = df[(df>0)]\n",
    "k"
   ]
  },
  {
   "cell_type": "code",
   "execution_count": 124,
   "metadata": {
    "collapsed": false
   },
   "outputs": [
    {
     "data": {
      "text/plain": [
       "True"
      ]
     },
     "execution_count": 124,
     "metadata": {},
     "output_type": "execute_result"
    }
   ],
   "source": [
    "math.isnan(k.iloc[0,0])\n",
    "#df.iloc[0,0]"
   ]
  },
  {
   "cell_type": "code",
   "execution_count": 144,
   "metadata": {
    "collapsed": false
   },
   "outputs": [
    {
     "data": {
      "text/plain": [
       "numpy.float64"
      ]
     },
     "execution_count": 144,
     "metadata": {},
     "output_type": "execute_result"
    }
   ],
   "source": [
    "k2 = k.copy()\n",
    "k2[k2>1] = -k2\n",
    "k2.fillna(int(5))\n",
    "#k2[k2>1]\n",
    "type(k2.iloc[0,0])"
   ]
  }
 ],
 "metadata": {
  "kernelspec": {
   "display_name": "Python 2",
   "language": "python",
   "name": "python2"
  },
  "language_info": {
   "codemirror_mode": {
    "name": "ipython",
    "version": 2
   },
   "file_extension": ".py",
   "mimetype": "text/x-python",
   "name": "python",
   "nbconvert_exporter": "python",
   "pygments_lexer": "ipython2",
   "version": "2.7.10"
  }
 },
 "nbformat": 4,
 "nbformat_minor": 0
}
